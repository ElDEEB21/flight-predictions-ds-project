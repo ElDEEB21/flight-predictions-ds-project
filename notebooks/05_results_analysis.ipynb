{
 "cells": [
  {
   "cell_type": "code",
   "execution_count": 2,
   "metadata": {},
   "outputs": [],
   "source": [
    "import pandas as pd\n",
    "import numpy as np\n",
    "import matplotlib.pyplot as plt\n",
    "import seaborn as sns\n",
    "from sklearn.metrics import mean_squared_error\n",
    "from sklearn.linear_model import LinearRegression\n",
    "from sklearn.ensemble import RandomForestRegressor\n",
    "from sklearn.neighbors import KNeighborsRegressor\n",
    "from sklearn.tree import DecisionTreeRegressor\n",
    "from lightgbm import LGBMRegressor\n",
    "import warnings\n",
    "warnings.filterwarnings(\"ignore\")"
   ]
  },
  {
   "cell_type": "code",
   "execution_count": 3,
   "metadata": {},
   "outputs": [],
   "source": [
    "x_train = pd.read_csv('../data/processed/x_train_processed.csv')\n",
    "y_train = pd.read_csv('../data/processed/y_train.csv')\n",
    "x_test = pd.read_csv('../data/processed/x_test_processed.csv')\n",
    "y_test = pd.read_csv('../data/processed/y_test.csv')"
   ]
  },
  {
   "cell_type": "code",
   "execution_count": 4,
   "metadata": {},
   "outputs": [
    {
     "name": "stdout",
     "output_type": "stream",
     "text": [
      "Fitting 2 folds for each of 8 candidates, totalling 16 fits\n",
      "Fitting 2 folds for each of 4 candidates, totalling 8 fits\n",
      "Fitting 2 folds for each of 4 candidates, totalling 8 fits\n",
      "Fitting 2 folds for each of 4 candidates, totalling 8 fits\n",
      "[LightGBM] [Warning] Found whitespace in feature_names, replace with underlines\n",
      "[LightGBM] [Info] Auto-choosing row-wise multi-threading, the overhead of testing was 0.006098 seconds.\n",
      "You can set `force_row_wise=true` to remove the overhead.\n",
      "And if memory is not enough, you can set `force_col_wise=true`.\n",
      "[LightGBM] [Info] Total Bins 360\n",
      "[LightGBM] [Info] Number of data points in the train set: 238352, number of used features: 29\n",
      "[LightGBM] [Info] Start training from score 252.058499\n",
      "RandomForestRegressor:\n",
      "  R²: 0.9851\n",
      "  RMSE: 33.1933\n",
      "  Best Parameters: {'n_estimators': 100, 'min_samples_split': 5, 'max_depth': 20}\n",
      "\n",
      "KNeighborsRegressor:\n",
      "  R²: 0.9712\n",
      "  RMSE: 46.1511\n",
      "  Best Parameters: {'weights': 'distance', 'n_neighbors': 5}\n",
      "\n",
      "DecisionTreeRegressor:\n",
      "  R²: 0.9791\n",
      "  RMSE: 39.2967\n",
      "  Best Parameters: {'min_samples_split': 5, 'max_depth': 20}\n",
      "\n",
      "LightGBM:\n",
      "  R²: 0.9696\n",
      "  RMSE: 47.4246\n",
      "  Best Parameters: {'n_estimators': 100, 'learning_rate': 0.1}\n",
      "\n"
     ]
    }
   ],
   "source": [
    "from sklearn.model_selection import RandomizedSearchCV\n",
    "\n",
    "param_grid_rf = {\n",
    "    'n_estimators': [50, 100],\n",
    "    'max_depth': [10, 20],\n",
    "    'min_samples_split': [2, 5]\n",
    "}\n",
    "\n",
    "param_grid_knn = {\n",
    "    'n_neighbors': [3, 5],\n",
    "    'weights': ['uniform', 'distance']\n",
    "}\n",
    "\n",
    "param_grid_dt = {\n",
    "    'max_depth': [10, 20],\n",
    "    'min_samples_split': [2, 5]\n",
    "}\n",
    "\n",
    "param_grid_lgb = {\n",
    "    'n_estimators': [50, 100],\n",
    "    'learning_rate': [0.05, 0.1]\n",
    "}\n",
    "\n",
    "models = {\n",
    "    'RandomForestRegressor': (RandomForestRegressor(random_state=42), param_grid_rf),\n",
    "    'KNeighborsRegressor': (KNeighborsRegressor(), param_grid_knn),\n",
    "    'DecisionTreeRegressor': (DecisionTreeRegressor(random_state=42), param_grid_dt),\n",
    "    'LightGBM': (LGBMRegressor(random_state=42), param_grid_lgb)\n",
    "}\n",
    "\n",
    "results = {}\n",
    "\n",
    "for model_name, (model, param_grid) in models.items():\n",
    "    search = RandomizedSearchCV(estimator=model, param_distributions=param_grid, \n",
    "                                n_iter=10, cv=2, n_jobs=-1, random_state=42, verbose=1)\n",
    "    search.fit(x_train, y_train.values.ravel())\n",
    "    best_model = search.best_estimator_\n",
    "    y_pred = best_model.predict(x_test)\n",
    "    \n",
    "    results[model_name] = {\n",
    "        'R2': best_model.score(x_test, y_test),\n",
    "        'RMSE': np.sqrt(mean_squared_error(y_test, y_pred)),\n",
    "        'Best Params': search.best_params_ \n",
    "    }\n",
    "\n",
    "for model_name, result in results.items():\n",
    "    print(f'{model_name}:')\n",
    "    print(f\"  R²: {result['R2']:.4f}\")\n",
    "    print(f\"  RMSE: {result['RMSE']:.4f}\")\n",
    "    print(f\"  Best Parameters: {result['Best Params']}\")\n",
    "    print()"
   ]
  },
  {
   "cell_type": "code",
   "execution_count": 5,
   "metadata": {},
   "outputs": [
    {
     "name": "stdout",
     "output_type": "stream",
     "text": [
      "Cross-Validation RMSE:  33.8977755561967\n"
     ]
    }
   ],
   "source": [
    "from sklearn.model_selection import cross_val_score\n",
    "\n",
    "best_model = RandomForestRegressor(min_samples_split=5, n_estimators=100, random_state=42, max_depth=20)\n",
    "scores = cross_val_score(best_model, x_train, y_train, cv=5, scoring='neg_mean_squared_error')\n",
    "print(\"Cross-Validation RMSE: \", np.mean(np.sqrt(-scores)))"
   ]
  },
  {
   "cell_type": "code",
   "execution_count": 6,
   "metadata": {},
   "outputs": [
    {
     "name": "stdout",
     "output_type": "stream",
     "text": [
      "Final Test R²:  0.9851033461662703\n",
      "Final Test RMSE:  33.19330648364955\n"
     ]
    }
   ],
   "source": [
    "best_model.fit(x_train, y_train)\n",
    "y_pred = best_model.predict(x_test)\n",
    "print(\"Final Test R²: \", best_model.score(x_test, y_test))\n",
    "print(\"Final Test RMSE: \", np.sqrt(mean_squared_error(y_test, y_pred)))"
   ]
  },
  {
   "cell_type": "code",
   "execution_count": 17,
   "metadata": {},
   "outputs": [
    {
     "data": {
      "image/png": "[encoded data removed]",
      "text/plain": [
       "<Figure size 1000x600 with 1 Axes>"
      ]
     },
     "metadata": {},
     "output_type": "display_data"
    }
   ],
   "source": [
    "importances = best_model.feature_importances_\n",
    "feature_names = x_train.columns\n",
    "indices = np.argsort(importances)[::-1]\n",
    "\n",
    "plt.figure(figsize=(10, 6))\n",
    "plt.title(\"Top 5 Feature Importance - RandomForest\")\n",
    "sns.barplot(x=importances[indices][:5], y=[feature_names[i] for i in indices][:5], palette=\"Blues_d\")\n",
    "plt.show()"
   ]
  },
  {
   "cell_type": "code",
   "execution_count": 9,
   "metadata": {},
   "outputs": [
    {
     "name": "stdout",
     "output_type": "stream",
     "text": [
      "Top features:\n",
      "Flight Class_Economy: 0.8881\n",
      "Flight Duration (hours): 0.0551\n",
      "Days Until Departure: 0.0156\n"
     ]
    }
   ],
   "source": [
    "top_n = 3\n",
    "print(\"Top features:\")\n",
    "for i in range(top_n):\n",
    "    print(f\"{feature_names[indices[i]]}: {importances[indices[i]]:.4f}\")"
   ]
  },
  {
   "cell_type": "code",
   "execution_count": null,
   "metadata": {},
   "outputs": [],
   "source": []
  }
 ],
 "metadata": {
  "kernelspec": {
   "display_name": "Python 3",
   "language": "python",
   "name": "python3"
  },
  "language_info": {
   "codemirror_mode": {
    "name": "ipython",
    "version": 3
   },
   "file_extension": ".py",
   "mimetype": "text/x-python",
   "name": "python",
   "nbconvert_exporter": "python",
   "pygments_lexer": "ipython3",
   "version": "3.11.4"
  }
 },
 "nbformat": 4,
 "nbformat_minor": 2
}
